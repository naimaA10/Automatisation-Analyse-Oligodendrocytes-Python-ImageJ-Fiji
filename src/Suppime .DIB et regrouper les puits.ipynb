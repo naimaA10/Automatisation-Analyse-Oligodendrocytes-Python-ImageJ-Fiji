{
 "cells": [
  {
   "cell_type": "markdown",
   "id": "95d7a420",
   "metadata": {},
   "source": [
    "# <center> Supprimer les fichiers .DIB et regrouper les puits</center>\n",
    "\n",
    "## Importer les bibliothèques et modification de variable\n",
    "**Veuillez exécuter la cellule suivante qui permet d'importer les bibliothèques nécessaires pour l'utilisation de ce script et la modification du chemin.** La variable suivante représentent les chemins contenant l'ensemble des puits. \n",
    "\n",
    "\n",
    "## Modifier la variable suivante (en bleu)\n",
    " - <font color='blue'> **puits_dir** </font> par le chemin du répertoire contenant tous les puits avant de lancer le script. *(Ex \"le\\chemin\\du\\repertoire\\ARRAYSCAN_221129130001_PB\")* "
   ]
  },
  {
   "cell_type": "code",
   "execution_count": 5,
   "id": "e9400c13",
   "metadata": {},
   "outputs": [],
   "source": [
    "import os\n",
    "import glob\n",
    "import pandas as pd\n",
    "import pprint\n",
    "import matplotlib.pyplot as pyplot\n",
    "\n",
    "# Chemin du repertoire contenant les répertoires de chaque puits (Exemple 'le/chemin/du/repertoire/ARRAYSCAN_221129130001_PB/)\n",
    "puits_dir = r\"C:\\Users\\naima.ammiche\\Desktop\\Données - traitement images\\test_img\""
   ]
  },
  {
   "cell_type": "markdown",
   "id": "c28a212a",
   "metadata": {},
   "source": [
    "## Supprimer les fichiers au format DIB \n",
    "\n",
    "Les résultats des puits comportent des images au format TIF qui sont à analyser et les fichiers au format DIB à supprimer car ils ne sont pas nécessaires lors de l'analyse. Ce code permet de choisir un dossier contenant l'ensemble des puits, ouvre ce dossier et parcourt chaque puits (A01, A02, A03 .... B01, B02, B03 ......H12) et pour chaque puits il parcourt les fichiers qu'il contient. Si l'extension du fichier est au format **DIB** ce fichier est supprimé. Un message apparaît pour indiquer quels fichiers sont supprimés. "
   ]
  },
  {
   "cell_type": "code",
   "execution_count": 326,
   "id": "60f458a7",
   "metadata": {},
   "outputs": [],
   "source": [
    "puits_regex = os.path.join(puits_dir.replace(\"\\\\\", \"/\")+'/', \"*\") # Une chaîne de caractère contenant nom des fichiers à sélectionner\n",
    "puits_files = glob.glob(puits_regex) # Liste de l'ensemble des fichiers \n",
    "    \n",
    "# Parcourt chaque répertoire correspondant à un puits dont les puits A01, A02, A03 ... B01, B02 ... H12\n",
    "for puits in puits_files : \n",
    "    img_dir = puits # Récupére le chemin du répertoire du puits qui contient les images et fichiers DIB\n",
    "    img_regex = os.path.join(img_dir, \"*\")  # Une chaîne de caractère contenant le nom des fichiers à sélectionner\n",
    "    img_files = glob.glob(img_regex) # Liste de l'ensemble des fichiers \n",
    "\n",
    "    # Parcourt les fichiers présent dans le puits \n",
    "    for img in img_files :\n",
    "        extension = os.path.splitext(img) # Récupére l'extension du fichier\n",
    "        if os.path.exists(img) and extension[1] == \".DIB\" : # Si l'extension est .DIB alors le fichier est supprimé\n",
    "            os.remove(img)  \n",
    "            print(f\"Suppression de {img}\") # Affiche un message pour prévenir quel fichier est supprimé"
   ]
  },
  {
   "cell_type": "markdown",
   "id": "ff302038",
   "metadata": {},
   "source": [
    "## Regrouper les dossiers d'un même puits\n",
    "\n",
    "Par exemple nous avons les dossiers \"A01\", \"A02\" et \"A03\" correspondants au même puits et par conséquent les regrouper dans un seul dossier \"A01\". Ce processus est réalisé pour l'ensemble des puits. <font color='red'> **ATTENTION exécutée qu'une fois la cellule suivante pour obtenir les résultats voulus c'est-à-dire les puits A01, A02 et A03 regrouper dans le puits A01. Les puits A04, A05 et A06 regroupé dans A04 ... Les puits B01, B02 et B03 regroupé dans B01.** </font>"
   ]
  },
  {
   "cell_type": "code",
   "execution_count": null,
   "id": "6da9d798",
   "metadata": {},
   "outputs": [],
   "source": [
    "try:\n",
    "    puits_dir = puits_dir +\"\\\\\"\n",
    "    # Liste de tous les puits présents dans le répertoire\n",
    "    puits_files = os.listdir(puits_dir.replace(\"\\\\\", \"/\"))\n",
    "    puits_files1 =[]\n",
    "    print(f\"Les puits sont  : {puits_files}\") # A01, A02, B01...\n",
    "    \n",
    "    # Vérifier qu'il s'agit d'un répertoire (ex: A01), si c'est un fichier alors le message d'erreur s'affiche  \n",
    "    puits_files = os.listdir(puits_dir)\n",
    "    for i in range(len(puits_files)):\n",
    "        if not os.path.isdir(puits_dir+puits_files[i]):\n",
    "            print(f\"{puits_dir+puits_files[i]} n'est pas un répertoire\")\n",
    "        else :\n",
    "            puits_files1.append(puits_files[i])\n",
    "\n",
    "    # Parcourir les puits par trois (ex: A01, A02 et A03) pour les rassembler dans un même puits (ex: rassembler dans A01)\n",
    "    for i in range(0,len(puits_files1),3): \n",
    "                  \n",
    "        # Chemin des trois puits successif\n",
    "        dir_source = puits_dir + puits_files1[i+2]+\"/\" # Ex A03\n",
    "        dir_source2 = puits_dir +puits_files1[i+1]+\"/\" # Ex A02\n",
    "        dir_destination = puits_dir +puits_files1[i]+\"/\" # Ex A01\n",
    "        \n",
    "        # Liste des images des puits à déplacer\n",
    "        get_files = os.listdir(dir_source) # Ex images de A03\n",
    "        get_files2 = os.listdir(dir_source2) # Ex images de A02\n",
    "        \n",
    "        # Parcourt les images et on les déplace dans le répertoire destination (Ex déplacer les images de A03 dans A01)\n",
    "        for img in get_files:\n",
    "            os.replace(dir_source + img, dir_destination + img)\n",
    "        \n",
    "        # Parcourt les images et on les déplace dans destination (Ex déplacer les images de A02 dans A01)\n",
    "        for img in get_files2:\n",
    "            os.replace(dir_source2 + img, dir_destination + img)\n",
    "        \n",
    "        # Supprimer les fichiers source vide (Ex supprimer A03 et A02 après déplacement des images dans A01)\n",
    "        os.rmdir(dir_source)\n",
    "        os.rmdir(dir_source2)\n",
    "\n",
    "        # Message pour prévenir l'utilisateur que les images ont été déplacer    \n",
    "        print(f\"Les dossiers\\n{dir_source} et\\n{dir_source2}\\nsont déplacés dans {dir_destination}\\n\")\n",
    "        \n",
    "except:\n",
    "    print(\"Les dossiers n'existent pas\")"
   ]
  }
 ],
 "metadata": {
  "kernelspec": {
   "display_name": "Python 3 (ipykernel)",
   "language": "python",
   "name": "python3"
  },
  "language_info": {
   "codemirror_mode": {
    "name": "ipython",
    "version": 3
   },
   "file_extension": ".py",
   "mimetype": "text/x-python",
   "name": "python",
   "nbconvert_exporter": "python",
   "pygments_lexer": "ipython3",
   "version": "3.9.13"
  }
 },
 "nbformat": 4,
 "nbformat_minor": 5
}
